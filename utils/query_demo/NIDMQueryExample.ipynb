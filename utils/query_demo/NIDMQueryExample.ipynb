{
 "cells": [
  {
   "cell_type": "code",
   "execution_count": 1,
   "id": "juvenile-conservation",
   "metadata": {},
   "outputs": [],
   "source": [
    "import ipywidgets as widgets\n",
    "import json\n",
    "import os\n",
    "from os import system\n",
    "from os.path import join,basename\n",
    "from IPython.display import display\n",
    "try:\n",
    "    import glob2\n",
    "except ImportError:\n",
    "    system('python -m pip install glob2')\n",
    "    import glob2\n",
    "import requests"
   ]
  },
  {
   "cell_type": "code",
   "execution_count": 2,
   "id": "thrown-stable",
   "metadata": {},
   "outputs": [],
   "source": [
    "# get isAbout URLs are used in this project along with \n",
    "# isAbout labels and \n",
    "query='PREFIX nidm: <http://purl.org/nidash/nidm#> \\\n",
    "       PREFIX rdfs: <http://www.w3.org/2000/01/rdf-schema#> \\\n",
    "       select distinct ?isabout_url ?isabout_label where { \\\n",
    "        ?s nidm:isAbout ?isabout_url . \\\n",
    "        ?isabout_url rdfs:label ?isabout_label .}'\n",
    "query_enc = requests.utils.quote(query)\n",
    "\n",
    "# Set URL for ReproLake GraphDB resource for OpenNeuro NIDM files\n",
    "url = \"http://nidm.scicrunch.io:7200/repositories/OpenNeuro?query=\" + query_enc\n",
    "payload='-H=Accept%3Aapplication%2Fsparql-results%2Bjson'\n",
    "headers = {\n",
    "  'Content-Type': 'application/x-www-form-urlencoded'\n",
    "}\n",
    "# send post request to graphDB server\n",
    "isabout_query_response = requests.request(\"POST\", url, headers=headers, data=payload)"
   ]
  },
  {
   "cell_type": "code",
   "execution_count": 3,
   "id": "secondary-cinema",
   "metadata": {},
   "outputs": [],
   "source": [
    "#loop through isAbout and set up dictionary for UI\n",
    "isAbout_term_labels={}\n",
    "for c in isabout_query_response.iter_lines():\n",
    "    # get query return for this row\n",
    "    isAbout_url = str(c.decode()).split(',')[0]\n",
    "    isAbout_label = str(c.decode()).split(',')[1]\n",
    "    # skip first row which has binding labels from sparql query\n",
    "    if isAbout_url == 'isabout_url':\n",
    "        continue\n",
    "    # if we haven't stored any source variables from this dataset\n",
    "    if (isAbout_url not in isAbout_term_labels.keys()):\n",
    "        # set top-level data key to datset number\n",
    "        isAbout_term_labels[str(isAbout_url)] = str(isAbout_label)\n",
    "        #print(\"%s = %s\" %(isAbout_url,isAbout_label))"
   ]
  },
  {
   "cell_type": "code",
   "execution_count": 4,
   "id": "monthly-lounge",
   "metadata": {},
   "outputs": [],
   "source": [
    "# get image types for all OpenNeuro NIDM files\n",
    "query = 'PREFIX nidm: <http://purl.org/nidash/nidm#> \\\n",
    "        PREFIX rdfs: <http://www.w3.org/2000/01/rdf-schema#> \\\n",
    "        PREFIX prov: <http://www.w3.org/ns/prov#> \\\n",
    "        PREFIX dct: <http://purl.org/dc/terms/> \\\n",
    "        select distinct ?imageUsageType ?imageContrastType ?task where { \\\n",
    "            ?image_act a nidm:AcquisitionObject ; \\\n",
    "            nidm:hadAcquisitionModality nidm:MagneticResonanceImaging ; \\\n",
    "            nidm:hadImageContrastType ?imageContrastType ; \\\n",
    "            nidm:hadImageUsageType ?imageUsageType . \\\n",
    "        optional{?image_act nidm:Task ?task .} . }'\n",
    "\n",
    "\n",
    "query_enc = requests.utils.quote(query)\n",
    "\n",
    "# Set URL for ReproLake GraphDB resource for OpenNeuro NIDM files\n",
    "url = \"http://nidm.scicrunch.io:7200/repositories/OpenNeuro?query=\" + query_enc\n",
    "payload='-H=Accept%3Aapplication%2Fsparql-results%2Bjson'\n",
    "headers = {\n",
    "  'Content-Type': 'application/x-www-form-urlencoded'\n",
    "}\n",
    "# send post request to graphDB server\n",
    "image_types_query_response = requests.request(\"POST\", url, headers=headers, data=payload)"
   ]
  },
  {
   "cell_type": "code",
   "execution_count": 5,
   "id": "pressing-april",
   "metadata": {},
   "outputs": [
    {
     "name": "stdout",
     "output_type": "stream",
     "text": [
      "['http://purl.org/nidash/nidm#Anatomical', 'http://purl.org/nidash/nidm#T2Weighted', 'http://purl.org/nidash/nidm#T1Weighted', 'http://purl.org/nidash/nidm#Functional', 'http://purl.org/nidash/nidm#FlowWeighted', 'http://purl.org/nidash/nidm#DiffusionTensor', 'http://purl.org/nidash/nidm#DiffusionWeighted']\n"
     ]
    }
   ],
   "source": [
    "#loop through image types and set up dictionary for UI\n",
    "image_types=[]\n",
    "for c in image_types_query_response.iter_lines():\n",
    "    # get query return for this row\n",
    "    image_usage_type = (str(c.decode()).split(',')[0])\n",
    "    image_contrast_type = (str(c.decode()).split(',')[1])\n",
    "    # not used for now...\n",
    "    # image_task = str(c.decode()).split(',')[2]\n",
    "    # skip first row which has binding labels from sparql query\n",
    "    if image_usage_type == 'imageUsageType':\n",
    "        continue\n",
    "    # if we haven't stored any source variables from this dataset\n",
    "    if (image_usage_type not in image_types):\n",
    "        image_types.append(image_usage_type)\n",
    "    if (image_contrast_type not in image_types):\n",
    "        image_types.append(image_contrast_type)\n",
    "\n",
    "print(\"%s\" %(image_types))"
   ]
  },
  {
   "cell_type": "code",
   "execution_count": 160,
   "id": "instant-desperate",
   "metadata": {},
   "outputs": [],
   "source": [
    "# temporary variables for query\n",
    "global currentQueryTerm, queryTerms,currentImageQueryTerm\n",
    "currentQueryTerm =''\n",
    "queryTerms = []\n",
    "imageTerms = []\n",
    "# handler for drop down\n",
    "def dropdown_eventhandler(change):\n",
    "    #if change['name'] == 'value' and (change['new'] != change['old']):\n",
    "    if change['name'] == 'value' and (change['new']):\n",
    "        # set currentQueryTerm to selection\n",
    "        #print(\"current query term changed %s\" %change['new'])\n",
    "        global currentQueryTerm\n",
    "        currentQueryTerm = change['new']\n",
    "        \n",
    "# handler for drop down\n",
    "def image_dropdown_eventhandler(change):\n",
    "    if change['name'] == 'value' and (change['new']):\n",
    "        # set currentImageQueryTerm to selection\n",
    "        #print(\"current query term changed %s\" %change['new'])\n",
    "        global currentImageQueryTerm\n",
    "        currentImageQueryTerm = change['new']\n",
    "           \n",
    "# add handlers for simple GUI\n",
    "def btn_addConceptToQuery(obj):\n",
    "    global currentQueryTerm\n",
    "    global queryTerms\n",
    "    if (currentQueryTerm not in queryTerms) and (currentQueryTerm != ''):\n",
    "        #add to query Terms\n",
    "        queryTerms.append(currentQueryTerm)\n",
    "        print(\"Query: %s \" %queryTerms)\n",
    "def btn_addImageTypeToQuery(obj):\n",
    "    global currentQueryTerm\n",
    "    global imageTerms,queryTerms\n",
    "    if (currentImageQueryTerm not in imageTerms) and (currentImageQueryTerm != ''):\n",
    "        #add to query Terms\n",
    "        imageTerms.append(currentImageQueryTerm)\n",
    "        print(\"Query: %s %s \" %(imageTerms,queryTerms))\n",
    "# handlers for buttons\n",
    "def btn_reset(obj):\n",
    "    global queryTerms,imageTerms\n",
    "    queryTerms = []\n",
    "    imageTerms = []\n",
    "    print(\"query terms reset: %s %s\" %(queryTerms,imageTerms))\n",
    "\n",
    "def ANDQuery(obj):\n",
    "    global queryTerms,imageTerms\n",
    "    \n",
    "    \n",
    "    query = '''PREFIX nidm: <http://purl.org/nidash/nidm#> \n",
    "                PREFIX rdfs: <http://www.w3.org/2000/01/rdf-schema#> \n",
    "                PREFIX prov: <http://www.w3.org/ns/prov#> \n",
    "                PREFIX dct: <http://purl.org/dc/terms/> \n",
    "                PREFIX dctypes: <http://purl.org/dc/dcmitype/> \n",
    "                PREFIX ndar: <https://ndar.nih.gov/api/datadictionary/v2/dataelement/> \n",
    "                \n",
    "                select distinct ?url where { '''\n",
    "    \n",
    "    for term in queryTerms:\n",
    "        # find isAbout url matching term\n",
    "        isabout_url = [key for key,value in isAbout_term_labels.items() if value == term]\n",
    "        query = query + '''\n",
    "                    ?uuid nidm:isAbout <%s> . \n",
    "                    ?entity_uuid ?uuid ?value . \n",
    "                    ?entity_uuid prov:wasGeneratedBy ?activity_uuid . \n",
    "        ''' %(' '.join(map(str, isabout_url)))\n",
    "    \n",
    "    query = query + '''\n",
    "                    ?activity_uuid prov:qualifiedAssociation ?bnode . \n",
    "                    ?bnode prov:agent ?agent_uuid . \n",
    "                    \n",
    "                    ?agent_uuid ndar:src_subject_id ?ID . \n",
    "                    ?imaging_activity prov:qualifiedAssociation ?bnode2 . \n",
    "                    ?bnode2 prov:agent ?agent_uuid . \n",
    "                    \n",
    "    ''' \n",
    "    \n",
    "    for term in imageTerms:\n",
    "    \n",
    "        query = query + '''\n",
    "            ?imaging_entity prov:wasGeneratedBy ?imaging_activity ; \n",
    "                        nidm:hadImageContrastType <%s> ; \n",
    "                        prov:wasGeneratedBy/dct:isPartOf/dct:isPartOf ?project . \n",
    "        \n",
    "        ''' %(term)\n",
    "                    \n",
    "    query = query + '''\n",
    "            ?project dctypes:title ?title ;\n",
    "                            prov:Location ?url .}\n",
    "    \n",
    "    '''   \n",
    "\n",
    "\n",
    "    #print(query)\n",
    "    query_enc = requests.utils.quote(query)\n",
    "\n",
    "    # Set URL for ReproLake GraphDB resource for OpenNeuro NIDM files\n",
    "    url = \"http://nidm.scicrunch.io:7200/repositories/OpenNeuro?query=\" + query_enc\n",
    "    payload='-H=Accept%3Aapplication%2Fsparql-results%2Bjson'\n",
    "    headers = {\n",
    "      'Content-Type': 'application/x-www-form-urlencoded'\n",
    "    }\n",
    "    # send post request to graphDB server\n",
    "    print(\"Running AND Query.... \")\n",
    "    projects_query = requests.request(\"POST\", url, headers=headers, data=payload)\n",
    "    \n",
    "    print(\"Done... \")\n",
    "    and_query_results = []\n",
    "    for c in projects_query.iter_lines():\n",
    "        #line = c.decode('utf-8').split(\",\")\n",
    "        and_query_results.append(c.decode('utf-8').replace(\"\\n\",\"\").replace(\"\\r\",\"\"))\n",
    "\n",
    "    print(\"Matching Datasets\")\n",
    "    for result in and_query_results:\n",
    "        if result == 'url':\n",
    "            continue\n",
    "        if \"file://Volumes/Research/datasets.datalad.org/openneuro/\" in result:\n",
    "            print(result.replace(\"file://Volumes/Research/datasets.datalad.org/openneuro/\",\n",
    "                         \"https://openneuro.org/datasets/\"))\n",
    "        else:\n",
    "            print(result)\n",
    "        "
   ]
  },
  {
   "cell_type": "code",
   "execution_count": 161,
   "id": "eleven-prayer",
   "metadata": {},
   "outputs": [
    {
     "name": "stdout",
     "output_type": "stream",
     "text": [
      "Please select concepts from the dropdown to include in a query:\n"
     ]
    },
    {
     "data": {
      "application/vnd.jupyter.widget-view+json": {
       "model_id": "ba4f56383f514be9a8e17b6042f8d2a6",
       "version_major": 2,
       "version_minor": 0
      },
      "text/plain": [
       "Dropdown(options=('age', 'sex', 'gender', 'handedness assessment', 'ethnicity', 'anxiety', 'generalized anxiet…"
      ]
     },
     "metadata": {},
     "output_type": "display_data"
    },
    {
     "data": {
      "application/vnd.jupyter.widget-view+json": {
       "model_id": "9a0e1e8dca08420bb1b5f257b6379ca9",
       "version_major": 2,
       "version_minor": 0
      },
      "text/plain": [
       "Button(description='Add Concept', style=ButtonStyle())"
      ]
     },
     "metadata": {},
     "output_type": "display_data"
    },
    {
     "data": {
      "application/vnd.jupyter.widget-view+json": {
       "model_id": "6ea9a97e2f824e8191be1997c5f7342d",
       "version_major": 2,
       "version_minor": 0
      },
      "text/plain": [
       "Dropdown(options=('http://purl.org/nidash/nidm#Anatomical', 'http://purl.org/nidash/nidm#T2Weighted', 'http://…"
      ]
     },
     "metadata": {},
     "output_type": "display_data"
    },
    {
     "data": {
      "application/vnd.jupyter.widget-view+json": {
       "model_id": "e45daa4955e6408fbe185d5c7e8d5523",
       "version_major": 2,
       "version_minor": 0
      },
      "text/plain": [
       "Button(description='Add Image Type', style=ButtonStyle())"
      ]
     },
     "metadata": {},
     "output_type": "display_data"
    },
    {
     "data": {
      "application/vnd.jupyter.widget-view+json": {
       "model_id": "1f2d9ea8ae664b4891dbe31b41e99714",
       "version_major": 2,
       "version_minor": 0
      },
      "text/plain": [
       "Button(description='Run AND query', style=ButtonStyle())"
      ]
     },
     "metadata": {},
     "output_type": "display_data"
    },
    {
     "data": {
      "application/vnd.jupyter.widget-view+json": {
       "model_id": "9c788d3f92be442eabba8b0ddcf8ff30",
       "version_major": 2,
       "version_minor": 0
      },
      "text/plain": [
       "Button(description='Reset query', style=ButtonStyle())"
      ]
     },
     "metadata": {},
     "output_type": "display_data"
    }
   ],
   "source": [
    "# bring up a new selector for adding a concept to the query\n",
    "queryTermSelector = widgets.Dropdown(options=list(isAbout_term_labels.values()))\n",
    "queryTermSelector.observe(dropdown_eventhandler)\n",
    "queryImageSelector = widgets.Dropdown(options=image_types)\n",
    "queryImageSelector.observe(image_dropdown_eventhandler)\n",
    "# create a little user interface to query using isAbout concepts\n",
    "addConceptToQuery = widgets.Button(description='Add Concept')\n",
    "addConceptToQuery.on_click(btn_addConceptToQuery)\n",
    "addImageToQuery = widgets.Button(description='Add Image Type')\n",
    "addImageToQuery.on_click(btn_addImageTypeToQuery)\n",
    "doANDQuery = widgets.Button(description='Run AND query')\n",
    "doANDQuery.on_click(ANDQuery)\n",
    "#doORQuery = widgets.Button(description='Run OR query')\n",
    "#doORQuery.on_click(ORQuery)\n",
    "resetQuery = widgets.Button(description='Reset query')\n",
    "resetQuery.on_click(btn_reset)\n",
    "print(\"Please select concepts from the dropdown to include in a query:\")\n",
    "display(queryTermSelector)\n",
    "display(addConceptToQuery)\n",
    "display(queryImageSelector)\n",
    "display(addImageToQuery)\n",
    "display(doANDQuery)\n",
    "display(resetQuery)"
   ]
  },
  {
   "cell_type": "code",
   "execution_count": null,
   "id": "limiting-settlement",
   "metadata": {},
   "outputs": [],
   "source": []
  }
 ],
 "metadata": {
  "kernelspec": {
   "display_name": "Python 3",
   "language": "python",
   "name": "python3"
  },
  "language_info": {
   "codemirror_mode": {
    "name": "ipython",
    "version": 3
   },
   "file_extension": ".py",
   "mimetype": "text/x-python",
   "name": "python",
   "nbconvert_exporter": "python",
   "pygments_lexer": "ipython3",
   "version": "3.8.8"
  }
 },
 "nbformat": 4,
 "nbformat_minor": 5
}
