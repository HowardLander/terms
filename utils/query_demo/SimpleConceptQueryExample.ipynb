{
 "cells": [
  {
   "cell_type": "markdown",
   "metadata": {},
   "source": [
    "# OpenNeuro Dataset Query by NIDM-Terms Example"
   ]
  },
  {
   "cell_type": "code",
   "execution_count": 372,
   "metadata": {},
   "outputs": [],
   "source": [
    "import ipywidgets as widgets\n",
    "import json\n",
    "import glob, os\n",
    "from os import system\n",
    "from os.path import join,basename\n",
    "from IPython.display import display\n",
    "try:\n",
    "    from cognitiveatlas.api import get_concept, get_disorder\n",
    "except ImportError:\n",
    "    system('python -m pip install cognitiveatlas')\n",
    "    from cognitiveatlas.api import get_concept, get_disorder\n",
    "import requests\n"
   ]
  },
  {
   "cell_type": "code",
   "execution_count": 373,
   "metadata": {},
   "outputs": [
    {
     "name": "stdout",
     "output_type": "stream",
     "text": [
      "Please enter your scicrunch.org API key (see scicrunch.org->My Account->API Keys): 29hUT0BKdmUEgD6KLppEH9qDItY0eQXM\n"
     ]
    }
   ],
   "source": [
    "# ask user for scicrunch API key\n",
    "user_key=''\n",
    "while user_key == '':\n",
    "    user_key=input(\"Please enter your scicrunch.org API key (see scicrunch.org->My Account->API Keys): \")"
   ]
  },
  {
   "cell_type": "code",
   "execution_count": 374,
   "metadata": {},
   "outputs": [],
   "source": [
    "# set up uber jsonld dictionary\n",
    "data={}\n",
    "# for all jsonld documents in this repo, load them into a graph\n",
    "for dataset in glob.glob(\"../../terms/OpenNeuro_BIDS_terms/**\"):\n",
    "    # set top-level data key to datset number\n",
    "    data[basename(dataset)] = {}\n",
    "    # loop through all jsonld files and get isAbouts\n",
    "    for jsonldfile in glob.glob(join(dataset,\"*.jsonld\")):\n",
    "        #load jsonld file\n",
    "        #print(\"Loading jsonld file: %s for datset: %s\" %(basename(jsonldfile),basename(dataset)))\n",
    "        with open(jsonldfile) as f:\n",
    "            data[basename(dataset)] = json.load(f)\n",
    "\n",
    "    "
   ]
  },
  {
   "cell_type": "code",
   "execution_count": 375,
   "metadata": {},
   "outputs": [],
   "source": [
    "# find all isAbout concepts in data dictionary\n",
    "isAbout_terms=[]\n",
    "for key,val in data.items():\n",
    "    for subkey,subval in data[key].items():\n",
    "        if (\"isAbout\" in subkey) and ([subval] not in isAbout_terms):\n",
    "            isAbout_terms.append([subval])"
   ]
  },
  {
   "cell_type": "code",
   "execution_count": 376,
   "metadata": {},
   "outputs": [
    {
     "name": "stdout",
     "output_type": "stream",
     "text": [
      "[\"['http://uri.interlex.org/ilx_0100400']\"]\n",
      "[\"['http://uri.interlex.org/ilx_0104886']\"]\n",
      "[\"['http://uri.interlex.org/ilx_0103955']\"]\n",
      "[\"['https://www.cognitiveatlas.org/concept/json/trm_5159c70d0e98e/']\"]\n",
      "[\"['http://uri.interlex.org/ilx_0102388', 'https://www.cognitiveatlas.org/concept/id/trm_4a3fd79d0af66/']\"]\n",
      "[\"['http://cognitiveatlas.org/concept/json/trm_4a3fd79d0b5a7/', 'https://www.cognitiveatlas.org/concept/json/trm_4a3fd79d0b5a7/']\"]\n",
      "[\"['https://www.cognitiveatlas.org/disorder/id/dso_1470/', 'https://www.cognitiveatlas.org/disorder/id/dso_1470/']\"]\n",
      "[\"['http://uri.interlex.org/ilx_0738437']\"]\n",
      "[\"['http://uri.interlex.org/ilx_0112866']\"]\n",
      "[\"['https://www.cognitiveatlas.org/concept/json/trm_52b5f1ef4f9cc/', 'http://cognitiveatlas.org/concept/json/trm_4a3fd79d0a9dc/']\"]\n",
      "[\"['https://www.cognitiveatlas.org/concept/json/trm_5022ef7599294/', 'https://www.cognitiveatlas.org/disorder/id/dso_10685/']\"]\n"
     ]
    }
   ],
   "source": [
    "for stuff in isAbout_terms:\n",
    "    print(stuff)"
   ]
  },
  {
   "cell_type": "code",
   "execution_count": null,
   "metadata": {},
   "outputs": [],
   "source": [
    "# isAbout concept URLs don't have any human-readable labels at this point so let's go and try to retrieve them\n",
    "# first let's get labels for all the cognitive atlas isAbout concepts from their API\n",
    "isAbout_term_labels={}\n",
    "scicrunch_base_uri = 'https://scicrunch.org/api/1/ilx/search/curie/'\n",
    "for terms in isAbout_terms:\n",
    "    #print(terms)\n",
    "    for url_list in terms:\n",
    "        for url in url_list.split(\",\"):\n",
    "            #print(url)\n",
    "            # retrieve label from cog atlas\n",
    "            if \"cognitiveatlas\" in url:\n",
    "                # parse out id of term and get using cog atlas python tool...\n",
    "                id = url.rsplit('/',1)[0].rsplit('/',1)[1]\n",
    "                # don't know if this is a concept or disorder so we'll try both\n",
    "                try:\n",
    "                    tmp = get_concept(id=id,silent=True)\n",
    "                    isAbout_term_labels[url] = tmp.json['name'].lower()\n",
    "                    #print(\"cogatlas label: %s\" %isAbout_term_labels[url])\n",
    "                except:\n",
    "                    tmp = get_disorder(id=id,silent=True)\n",
    "                    isAbout_term_labels[url] = tmp.json['name'].lower()\n",
    "                    #print(\"cogatlas label: %s\" %isAbout_term_labels[url])\n",
    "\n",
    "            elif \"interlex\" in url:\n",
    "                # get label for interlex terms\n",
    "                payload={}\n",
    "                headers={}\n",
    "                full_url = scicrunch_base_uri + url.rsplit('/',1)[1].replace('_',':').rstrip(\"']'\") + \"?key=\" + user_key\n",
    "                #print(full_url)\n",
    "                response = requests.request(\"GET\",full_url,headers=headers,data=payload)\n",
    "                # response is a json dictionary. here we want the label\n",
    "                isAbout_term_labels[url] = response.json()[\"data\"][\"label\"].lower()\n",
    "                #print(\"interlex label: %s\" %isAbout_term_labels[url] )\n",
    "            "
   ]
  },
  {
   "cell_type": "code",
   "execution_count": null,
   "metadata": {},
   "outputs": [],
   "source": [
    "for key,value in isAbout_term_labels.items():\n",
    "    print(key,value)"
   ]
  },
  {
   "cell_type": "code",
   "execution_count": 387,
   "metadata": {},
   "outputs": [],
   "source": [
    "\n",
    "# temporary variables for query\n",
    "global currentQueryTerm, queryTerms\n",
    "currentQueryTerm =''\n",
    "queryTerms = []\n",
    "# handler for drop down\n",
    "def dropdown_eventhandler(change):\n",
    "    #if change['name'] == 'value' and (change['new'] != change['old']):\n",
    "    if change['name'] == 'value' and (change['new']):\n",
    "        # set currentQueryTerm to selection\n",
    "        #print(\"current query term changed %s\" %change['new'])\n",
    "        global currentQueryTerm\n",
    "        currentQueryTerm = change['new']\n",
    "        \n",
    "            \n",
    "# add handlers for simple GUI\n",
    "def btn_addConceptToQuery(obj):\n",
    "    global currentQueryTerm\n",
    "    global queryTerms\n",
    "    if (currentQueryTerm not in queryTerms) and (currentQueryTerm != ''):\n",
    "        #add to query Terms\n",
    "        queryTerms.append(currentQueryTerm)\n",
    "        print(\"Query: %s \" %queryTerms)\n",
    "        \n",
    "# handlers for buttons\n",
    "def btn_reset(obj):\n",
    "    global queryTerms\n",
    "    queryTerms = []\n",
    "    print(\"query terms reset: %s\" %queryTerms)\n",
    "def ANDQuery(obj):\n",
    "    # this function performs an AND query vs. an OR query on concepts\n",
    "    # to do an AND query we look through all the matching_datasets for each of the concepts and select datasets\n",
    "    # that satisfy all of them\n",
    "    \n",
    "    matching_datasets = doQuery()\n",
    "    and_query_result = []\n",
    "    # get number of concepts in the current query\n",
    "    num_concepts = len(matching_datasets.keys())\n",
    "    # number of matches for each dataset.  If this number equals num_concepts then it satisfies the AND \n",
    "    # criteria\n",
    "    num_matches={}\n",
    "    for concept,datasets in matching_datasets.items():\n",
    "        for dataset in datasets:\n",
    "            # does this dataset appear across all matching_datasets[term]?\n",
    "            # is so add it to the num_matches dictionary with the dataset identifier as the key\n",
    "            if dataset in num_matches.keys():\n",
    "                # increment counter\n",
    "                num_matches[dataset] = num_matches[dataset] + 1\n",
    "            else:\n",
    "                num_matches[dataset] = 1\n",
    "    # now store and_query_result\n",
    "    for dataset,matches in num_matches.items():\n",
    "        if matches == num_concepts:\n",
    "            and_query_result.append(dataset)\n",
    "    \n",
    "\n",
    "    if len(and_query_result) == 0:\n",
    "        print(\"AND Matching datasets: None\")\n",
    "    else:\n",
    "        print(\"AND Matching datasets: \")\n",
    "        for match in and_query_result:\n",
    "              print(match)\n",
    "\n",
    "def ORQuery(obj):       \n",
    "    # an OR query here is basically returning any datasets that are in the resulting structure\n",
    "    \n",
    "    matching_datasets = doQuery()\n",
    "    or_query_result=[]\n",
    "    for concept,datasets in matching_datasets.items():\n",
    "        for items in datasets:\n",
    "            or_query_result.append(items)\n",
    "\n",
    "    if len(or_query_result) == 0:\n",
    "        print(\"OR Matching datasets: None\")\n",
    "    else:\n",
    "        print(\"OR Matching datasets:\")\n",
    "        for match in or_query_result:\n",
    "            print(match)\n",
    "            \n",
    "def doQuery():\n",
    "    global queryTerms\n",
    "    matching_datasets={}\n",
    "    print(\"Running query on datasets for terms: %s\" %queryTerms)\n",
    "    for term in queryTerms:\n",
    "        # run query by looking for url matching queryTerms in isAbout_terms_labels\n",
    "        # which has mapping between isAbout URL and it's label\n",
    "        for isabout_key, isabout_value in isAbout_term_labels.items():\n",
    "            # check if isAbout_terms_labels value is the term we're looking for\n",
    "            if isabout_value == term:\n",
    "                matching_datasets[term] = []\n",
    "                # sometimes we have more than 1 isAbout URL so loop through them looking\n",
    "                # for a match wtih our query term URL\n",
    "                for dataset,dataset_annotations in data.items():\n",
    "                    for key,value in dataset_annotations.items():\n",
    "                        #print(\"looking for isAbout match (%s,%s)\" %([isabout_key],value))\n",
    "                        if (key=='isAbout')and (isabout_key in value):\n",
    "                            matching_datasets[term].append(\"https://openneuro.org/datasets/ds\" + dataset)\n",
    "                           \n",
    "    return matching_datasets\n",
    "            \n",
    "        \n",
    "    \n",
    "    "
   ]
  },
  {
   "cell_type": "code",
   "execution_count": 388,
   "metadata": {},
   "outputs": [
    {
     "name": "stdout",
     "output_type": "stream",
     "text": [
      "Please select concepts from the dropdown to include in a query:\n"
     ]
    },
    {
     "data": {
      "application/vnd.jupyter.widget-view+json": {
       "model_id": "05116c3f8f2a4fa98b62f16ec6e34599",
       "version_major": 2,
       "version_minor": 0
      },
      "text/plain": [
       "Dropdown(options=('age', 'handedness assessment', 'ethnicity', 'sleep', 'response inhibition', 'working memory…"
      ]
     },
     "metadata": {},
     "output_type": "display_data"
    },
    {
     "data": {
      "application/vnd.jupyter.widget-view+json": {
       "model_id": "070dd62e8495445b9f7b7c125691d16c",
       "version_major": 2,
       "version_minor": 0
      },
      "text/plain": [
       "Button(description='Add Query Concept', style=ButtonStyle())"
      ]
     },
     "metadata": {},
     "output_type": "display_data"
    },
    {
     "data": {
      "application/vnd.jupyter.widget-view+json": {
       "model_id": "2ea982e111044a2a851406921b005c68",
       "version_major": 2,
       "version_minor": 0
      },
      "text/plain": [
       "Button(description='Run AND query', style=ButtonStyle())"
      ]
     },
     "metadata": {},
     "output_type": "display_data"
    },
    {
     "data": {
      "application/vnd.jupyter.widget-view+json": {
       "model_id": "20af25ec56ab4db7a83245aa0637b686",
       "version_major": 2,
       "version_minor": 0
      },
      "text/plain": [
       "Button(description='Run OR query', style=ButtonStyle())"
      ]
     },
     "metadata": {},
     "output_type": "display_data"
    },
    {
     "data": {
      "application/vnd.jupyter.widget-view+json": {
       "model_id": "af813c5e15cc4adc9be9a0963191029d",
       "version_major": 2,
       "version_minor": 0
      },
      "text/plain": [
       "Button(description='Reset query', style=ButtonStyle())"
      ]
     },
     "metadata": {},
     "output_type": "display_data"
    }
   ],
   "source": [
    "# bring up a new selector for adding a concept to the query\n",
    "queryTermSelector = widgets.Dropdown(options=list(isAbout_term_labels.values()))\n",
    "queryTermSelector.observe(dropdown_eventhandler)\n",
    "# create a little user interface to query using isAbout concepts\n",
    "addConceptToQuery = widgets.Button(description='Add Query Concept')\n",
    "addConceptToQuery.on_click(btn_addConceptToQuery)\n",
    "doANDQuery = widgets.Button(description='Run AND query')\n",
    "doANDQuery.on_click(ANDQuery)\n",
    "doORQuery = widgets.Button(description='Run OR query')\n",
    "doORQuery.on_click(ORQuery)\n",
    "resetQuery = widgets.Button(description='Reset query')\n",
    "resetQuery.on_click(btn_reset)\n",
    "print(\"Please select concepts from the dropdown to include in a query:\")\n",
    "display(queryTermSelector)\n",
    "display(addConceptToQuery)\n",
    "display(doANDQuery)\n",
    "display(doORQuery)\n",
    "display(resetQuery)"
   ]
  },
  {
   "cell_type": "code",
   "execution_count": null,
   "metadata": {},
   "outputs": [],
   "source": []
  }
 ],
 "metadata": {
  "kernelspec": {
   "display_name": "Python 3",
   "language": "python",
   "name": "python3"
  },
  "language_info": {
   "codemirror_mode": {
    "name": "ipython",
    "version": 3
   },
   "file_extension": ".py",
   "mimetype": "text/x-python",
   "name": "python",
   "nbconvert_exporter": "python",
   "pygments_lexer": "ipython3",
   "version": "3.7.6"
  }
 },
 "nbformat": 4,
 "nbformat_minor": 4
}
