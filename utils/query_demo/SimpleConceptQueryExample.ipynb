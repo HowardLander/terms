{
 "cells": [
  {
   "cell_type": "markdown",
   "metadata": {},
   "source": [
    "# OpenNeuro Dataset Query by NIDM-Terms Example"
   ]
  },
  {
   "cell_type": "code",
   "execution_count": 198,
   "metadata": {},
   "outputs": [],
   "source": [
    "import ipywidgets as widgets\n",
    "import json\n",
    "import glob, os\n",
    "from os.path import join,basename\n",
    "from IPython.display import display\n",
    "from cognitiveatlas.api import get_concept, get_disorder\n",
    "import requests\n"
   ]
  },
  {
   "cell_type": "code",
   "execution_count": 199,
   "metadata": {},
   "outputs": [
    {
     "name": "stdout",
     "output_type": "stream",
     "text": [
      "Please enter your scicrunch.org API key (see scicrunch.org->My Account->API Keys): 29hUT0BKdmUEgD6KLppEH9qDItY0eQXM\n"
     ]
    }
   ],
   "source": [
    "# ask user for scicrunch API key\n",
    "user_key=''\n",
    "while user_key == '':\n",
    "    user_key=input(\"Please enter your scicrunch.org API key (see scicrunch.org->My Account->API Keys): \")"
   ]
  },
  {
   "cell_type": "code",
   "execution_count": 200,
   "metadata": {},
   "outputs": [],
   "source": [
    "# set up uber jsonld dictionary\n",
    "data={}\n",
    "# for all jsonld documents in this repo, load them into a graph\n",
    "for dataset in glob.glob(\"../../terms/OpenNeuro_BIDS_terms/**\"):\n",
    "    # set top-level data key to datset number\n",
    "    data[basename(dataset)] = {}\n",
    "    # loop through all jsonld files and get isAbouts\n",
    "    for jsonldfile in glob.glob(join(dataset,\"*.jsonld\")):\n",
    "        #load jsonld file\n",
    "        #print(\"Loading jsonld file: %s for datset: %s\" %(basename(jsonldfile),basename(dataset)))\n",
    "        with open(jsonldfile) as f:\n",
    "            data[basename(dataset)] = json.load(f)\n",
    "\n",
    "    "
   ]
  },
  {
   "cell_type": "code",
   "execution_count": 201,
   "metadata": {},
   "outputs": [],
   "source": [
    "# find all isAbout concepts in data dictionary\n",
    "isAbout_terms=[]\n",
    "for key,val in data.items():\n",
    "    isAbout_terms.append([subval for subkey,subval in data[key].items() if \"isAbout\" in subkey])"
   ]
  },
  {
   "cell_type": "code",
   "execution_count": 202,
   "metadata": {},
   "outputs": [
    {
     "ename": "SyntaxError",
     "evalue": "unexpected EOF while parsing (<ipython-input-202-df72cc15478d>, line 18)",
     "output_type": "error",
     "traceback": [
      "\u001b[0;36m  File \u001b[0;32m\"<ipython-input-202-df72cc15478d>\"\u001b[0;36m, line \u001b[0;32m18\u001b[0m\n\u001b[0;31m    \u001b[0m\n\u001b[0m    ^\u001b[0m\n\u001b[0;31mSyntaxError\u001b[0m\u001b[0;31m:\u001b[0m unexpected EOF while parsing\n"
     ]
    }
   ],
   "source": [
    "# isAbout concept URLs don't have any human-readable labels at this point so let's go and try to retrieve them\n",
    "# first let's get labels for all the cognitive atlas isAbout concepts from their API\n",
    "isAbout_term_labels={}\n",
    "for terms in isAbout_terms:\n",
    "    for url in terms:     \n",
    "        # retrieve label from cog atlas\n",
    "        if \"cognitiveatlas\" in url:\n",
    "            # parse out id of term and get using cog atlas python tool...\n",
    "            id = url.rsplit('/',1)[0].rsplit('/',1)[1]\n",
    "            # don't know if this is a concept or disorder so we'll try both\n",
    "            tmp = get_concept(id=id,silent=True)\n",
    "            isAbout_term_labels[url] = tmp.json['name']\n",
    "        elif \"interlex\" in url:\n",
    "            # get label for interlex terms\n",
    "            # to query interlex we need to use an api key\n",
    "            \n",
    "            #print(\"interlex url\")\n",
    "            "
   ]
  },
  {
   "cell_type": "code",
   "execution_count": 203,
   "metadata": {},
   "outputs": [],
   "source": [
    "\n",
    "# temporary variables for query\n",
    "global currentQueryTerm, queryTerms\n",
    "currentQueryTerm =''\n",
    "queryTerms = []\n",
    "# handler for drop down\n",
    "def dropdown_eventhandler(change):\n",
    "    if change['name'] == 'value' and (change['new'] != change['old']):\n",
    "        # set currentQueryTerm to selection\n",
    "        #print(\"current query term changed %s\" %change['new'])\n",
    "        global currentQueryTerm\n",
    "        currentQueryTerm = change['new']\n",
    "            \n",
    "# add handlers for simple GUI\n",
    "def btn_addConceptToQuery(obj):\n",
    "    global currentQueryTerm, queryTerms\n",
    "    #add to query Terms\n",
    "    print(\"Added \\'%s\\' to query...\" %currentQueryTerm)\n",
    "    queryTerms.append(currentQueryTerm)\n",
    "# handlers for buttons\n",
    "def btn_reset(obj):\n",
    "    global queryTerms\n",
    "    queryTerms = []\n",
    "    print(\"query terms reset: %s\" %queryTerms)\n",
    "def btn_doQuery(obj):\n",
    "    global queryTerms\n",
    "    matching_datasets=[]\n",
    "    print(\"running OR query on datasets for terms: %s\" %queryTerms)\n",
    "    for term in queryTerms:\n",
    "        # run query by looking for url matching queryTerms in isAbout_terms_labels\n",
    "        # which has mapping between isAbout URL and it's label\n",
    "        for isabout_key, isabout_value in isAbout_term_labels.items():\n",
    "            # check if isAbout_terms_labels value is the term we're looking for\n",
    "            if isabout_value == term:\n",
    "                # sometimes we have more than 1 isAbout URL so loop through them looking\n",
    "                # for a match wtih our query term URL\n",
    "\n",
    "                for dataset,dataset_annotations in data.items():\n",
    "                    for key,value in dataset_annotations.items():\n",
    "                        #print(\"looking for isAbout match (%s,%s)\" %([isabout_key],value))\n",
    "                        if (key=='isAbout')and (isabout_key in value):\n",
    "                            matching_datasets.append(dataset)\n",
    "                           \n",
    "    print(\"Matching datasets: %s\" %matching_datasets)\n",
    "            \n",
    "        \n",
    "    \n",
    "    "
   ]
  },
  {
   "cell_type": "code",
   "execution_count": 204,
   "metadata": {},
   "outputs": [
    {
     "data": {
      "application/vnd.jupyter.widget-view+json": {
       "model_id": "6dd8a27a8e36467284832539e09ca159",
       "version_major": 2,
       "version_minor": 0
      },
      "text/plain": [
       "Dropdown(options=('sleep', 'response inhibition', 'working memory', 'naming', 'anxiety'), value='sleep')"
      ]
     },
     "metadata": {},
     "output_type": "display_data"
    },
    {
     "data": {
      "application/vnd.jupyter.widget-view+json": {
       "model_id": "48496818cc2c416d8f9a1981270c9611",
       "version_major": 2,
       "version_minor": 0
      },
      "text/plain": [
       "Button(description='Add Query Concept', style=ButtonStyle())"
      ]
     },
     "metadata": {},
     "output_type": "display_data"
    },
    {
     "data": {
      "application/vnd.jupyter.widget-view+json": {
       "model_id": "55acd3d3fd1e451e8e036dc80f77be5d",
       "version_major": 2,
       "version_minor": 0
      },
      "text/plain": [
       "Button(description='run query', style=ButtonStyle())"
      ]
     },
     "metadata": {},
     "output_type": "display_data"
    },
    {
     "data": {
      "application/vnd.jupyter.widget-view+json": {
       "model_id": "055e6f17eedd4baf997ed15611f6203c",
       "version_major": 2,
       "version_minor": 0
      },
      "text/plain": [
       "Button(description='reset query', style=ButtonStyle())"
      ]
     },
     "metadata": {},
     "output_type": "display_data"
    },
    {
     "name": "stdout",
     "output_type": "stream",
     "text": [
      "Added 'working memory' to query...\n",
      "Added 'anxiety' to query...\n",
      "running OR query on datasets for terms: ['working memory', 'anxiety']\n",
      "Matching datasets: ['000222', '000144']\n"
     ]
    }
   ],
   "source": [
    "# bring up a new selector for adding a concept to the query\n",
    "queryTermSelector = widgets.Dropdown(options=list(isAbout_term_labels.values()))\n",
    "queryTermSelector.observe(dropdown_eventhandler)\n",
    "# create a little user interface to query using isAbout concepts\n",
    "addConceptToQuery = widgets.Button(description='Add Query Concept')\n",
    "addConceptToQuery.on_click(btn_addConceptToQuery)\n",
    "doQuery = widgets.Button(description='run query')\n",
    "doQuery.on_click(btn_doQuery)\n",
    "resetQuery = widgets.Button(description='reset query')\n",
    "resetQuery.on_click(btn_reset)\n",
    "display(queryTermSelector)\n",
    "display(addConceptToQuery)\n",
    "display(doQuery)\n",
    "display(resetQuery)"
   ]
  },
  {
   "cell_type": "code",
   "execution_count": null,
   "metadata": {},
   "outputs": [],
   "source": []
  }
 ],
 "metadata": {
  "kernelspec": {
   "display_name": "Python 3",
   "language": "python",
   "name": "python3"
  },
  "language_info": {
   "codemirror_mode": {
    "name": "ipython",
    "version": 3
   },
   "file_extension": ".py",
   "mimetype": "text/x-python",
   "name": "python",
   "nbconvert_exporter": "python",
   "pygments_lexer": "ipython3",
   "version": "3.7.6"
  }
 },
 "nbformat": 4,
 "nbformat_minor": 4
}
